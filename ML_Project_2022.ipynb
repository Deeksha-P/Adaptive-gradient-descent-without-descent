{
  "nbformat": 4,
  "nbformat_minor": 0,
  "metadata": {
    "colab": {
      "name": "ML_Project_2022.ipynb",
      "provenance": [],
      "collapsed_sections": [],
      "include_colab_link": true
    },
    "kernelspec": {
      "name": "python3",
      "display_name": "Python 3"
    },
    "language_info": {
      "name": "python"
    }
  },
  "cells": [
    {
      "cell_type": "markdown",
      "metadata": {
        "id": "view-in-github",
        "colab_type": "text"
      },
      "source": [
        "<a href=\"https://colab.research.google.com/github/Deeksha-P/Adaptive-gradient-descent-without-descent/blob/master/ML_Project_2022.ipynb\" target=\"_parent\"><img src=\"https://colab.research.google.com/assets/colab-badge.svg\" alt=\"Open In Colab\"/></a>"
      ]
    },
    {
      "cell_type": "code",
      "execution_count": 1,
      "metadata": {
        "id": "dIN6MXryMvzy",
        "colab": {
          "base_uri": "https://localhost:8080/"
        },
        "outputId": "736899a9-24d1-45a4-9a80-70d724a7998a"
      },
      "outputs": [
        {
          "output_type": "stream",
          "name": "stdout",
          "text": [
            "Cloning into 'adaptive_GD'...\n",
            "remote: Enumerating objects: 126, done.\u001b[K\n",
            "remote: Total 126 (delta 0), reused 0 (delta 0), pack-reused 126\u001b[K\n",
            "Receiving objects: 100% (126/126), 8.79 MiB | 7.36 MiB/s, done.\n",
            "Resolving deltas: 100% (57/57), done.\n"
          ]
        }
      ],
      "source": [
        "!git clone https://github.com/ymalitsky/adaptive_GD.git"
      ]
    },
    {
      "cell_type": "code",
      "source": [
        "import sys\n",
        "sys.path.insert(0,'/content/adaptive_GD')"
      ],
      "metadata": {
        "id": "BpETnYLaWACz"
      },
      "execution_count": 30,
      "outputs": []
    },
    {
      "cell_type": "code",
      "source": [
        "%pwd"
      ],
      "metadata": {
        "colab": {
          "base_uri": "https://localhost:8080/",
          "height": 35
        },
        "id": "HJfQVhySR253",
        "outputId": "6d99fb93-fe01-450e-b6bc-625def2b3895"
      },
      "execution_count": 31,
      "outputs": [
        {
          "output_type": "execute_result",
          "data": {
            "text/plain": [
              "'/content/adaptive_GD'"
            ],
            "application/vnd.google.colaboratory.intrinsic+json": {
              "type": "string"
            }
          },
          "metadata": {},
          "execution_count": 31
        }
      ]
    },
    {
      "cell_type": "code",
      "source": [
        "%ls"
      ],
      "metadata": {
        "colab": {
          "base_uri": "https://localhost:8080/"
        },
        "id": "ufVdP8LYR45L",
        "outputId": "973f1b08-1dcd-4679-c83d-213bc3abcc2f"
      },
      "execution_count": 32,
      "outputs": [
        {
          "output_type": "stream",
          "name": "stdout",
          "text": [
            "algorithms.py                             matrix_factorization.ipynb\n",
            "cubic_regularization.ipynb                optimizers.py\n",
            "\u001b[0m\u001b[01;34mdatasets\u001b[0m/                                 \u001b[01;34m__pycache__\u001b[0m/\n",
            "\u001b[01;34mimg\u001b[0m/                                      \u001b[01;34mpytorch\u001b[0m/\n",
            "\u001b[01;32mLICENSE\u001b[0m*                                  \u001b[01;32mREADME.org\u001b[0m*\n",
            "linesearch_logistic_regression_w8a.ipynb  \u001b[01;34msaved_data\u001b[0m/\n",
            "logistic_regression.ipynb                 trainer.py\n",
            "loss_functions.py\n"
          ]
        }
      ]
    },
    {
      "cell_type": "code",
      "source": [
        "import matplotlib\n",
        "import numpy as np\n",
        "import seaborn as sns\n",
        "\n",
        "import matplotlib.pyplot as plt\n",
        "import numpy.linalg as la\n",
        "from sklearn.datasets import load_svmlight_file"
      ],
      "metadata": {
        "id": "xoF4VnkZ3WG7"
      },
      "execution_count": 33,
      "outputs": []
    },
    {
      "cell_type": "code",
      "source": [
        "%load optimizers.py"
      ],
      "metadata": {
        "id": "B8UcsnnmXWMH"
      },
      "execution_count": 34,
      "outputs": []
    },
    {
      "cell_type": "code",
      "source": [
        "import optimizers\n",
        "import loss_functions"
      ],
      "metadata": {
        "id": "5cCk9gTEYTEd"
      },
      "execution_count": 41,
      "outputs": []
    },
    {
      "cell_type": "code",
      "source": [
        "from optimizers import Gd, Nesterov, Adgd, AdgdAccel, Bb, Polyak"
      ],
      "metadata": {
        "id": "nACH3Bf3Sfyy"
      },
      "execution_count": 39,
      "outputs": []
    },
    {
      "cell_type": "code",
      "source": [
        "from loss_functions import logistic_loss, logistic_gradient"
      ],
      "metadata": {
        "id": "KfKiRfNEXbmd"
      },
      "execution_count": 42,
      "outputs": []
    },
    {
      "cell_type": "code",
      "source": [
        "sns.set(style=\"whitegrid\", font_scale=1.2, context=\"talk\", palette=sns.color_palette(\"bright\"), color_codes=False)\n",
        "matplotlib.rcParams['mathtext.fontset'] = 'cm'\n",
        "dataset = 'covtype'\n",
        "data_path = './datasets/' + dataset\n",
        "if dataset == 'covtype':\n",
        "    data_path += '.bz2'\n",
        "\n",
        "if dataset == 'covtype':\n",
        "    it_max = 10000\n",
        "else:\n",
        "    it_max = 3000\n",
        "\n",
        "def logistic_smoothness(X):\n",
        "    return 0.25 * np.max(la.eigvalsh(X.T @ X / X.shape[0]))"
      ],
      "metadata": {
        "id": "V0Z9147zUikx"
      },
      "execution_count": 43,
      "outputs": []
    },
    {
      "cell_type": "code",
      "source": [
        "data = load_svmlight_file(data_path)\n",
        "X, y = data[0].toarray(), data[1]\n",
        "if (np.unique(y) == [1, 2]).all():\n",
        "    # Loss functions support only labels from {0, 1}\n",
        "    y -= 1\n",
        "n, d = X.shape\n",
        "L = logistic_smoothness(X)\n",
        "l2 = L / n if dataset == 'covtype' else L / (10 * n) \n",
        "w0 = np.zeros(d)\n",
        "\n",
        "def loss_func(w):\n",
        "    return logistic_loss(w, X, y, l2)\n",
        "\n",
        "def grad_func(w):\n",
        "    return logistic_gradient(w, X, y, l2)"
      ],
      "metadata": {
        "id": "IRooghVlUnkQ"
      },
      "execution_count": 44,
      "outputs": []
    },
    {
      "cell_type": "code",
      "source": [
        "gd = Gd(lr=1 / L, loss_func=loss_func, grad_func=grad_func, it_max=it_max)\n",
        "gd.run(w0=w0)"
      ],
      "metadata": {
        "id": "qnPj68B1T8g_"
      },
      "execution_count": 45,
      "outputs": []
    },
    {
      "cell_type": "code",
      "source": [
        "nest = Nesterov(lr=1 / L, loss_func=loss_func, grad_func=grad_func, it_max=it_max)\n",
        "nest.run(w0=w0)"
      ],
      "metadata": {
        "id": "WCrHRGDVUFI1"
      },
      "execution_count": 46,
      "outputs": []
    },
    {
      "cell_type": "code",
      "source": [
        "nest_str = Nesterov(lr=1 / L, strongly_convex=True, mu=l2, loss_func=loss_func, grad_func=grad_func, it_max=it_max)\n",
        "nest_str.run(w0=w0)"
      ],
      "metadata": {
        "id": "HVLDiJ6AUJnL"
      },
      "execution_count": null,
      "outputs": []
    },
    {
      "cell_type": "code",
      "source": [
        "adgd = Adgd(loss_func=loss_func, grad_func=grad_func, eps=0, it_max=it_max)\n",
        "adgd.run(w0=w0)"
      ],
      "metadata": {
        "id": "h_VGUL08UKtq"
      },
      "execution_count": null,
      "outputs": []
    },
    {
      "cell_type": "code",
      "source": [
        "ad_acc = AdgdAccel(loss_func=loss_func, grad_func=grad_func, it_max=it_max)\n",
        "ad_acc.run(w0=w0)"
      ],
      "metadata": {
        "id": "FmPCylkCUNE9"
      },
      "execution_count": null,
      "outputs": []
    },
    {
      "cell_type": "code",
      "source": [
        "optimizers = [gd, nest, adgd, ad_acc, nest_str]\n",
        "markers = [',', 'o', '*', '^', 'D', 's', '.', 'X']"
      ],
      "metadata": {
        "id": "WZ6Kg-w-UNlg"
      },
      "execution_count": null,
      "outputs": []
    },
    {
      "cell_type": "code",
      "source": [
        "for opt, marker in zip(optimizers, markers):\n",
        "    opt.compute_loss_on_iterates()\n",
        "f_star = np.min([np.min(opt.losses) for opt in optimizers])\n",
        "\n",
        "plt.figure(figsize=(8, 6))\n",
        "labels = ['GD', 'Nesterov', 'AdGD', 'AdGD-accel', 'Nesterov-strong']\n",
        "for opt, marker, label in zip(optimizers, markers + ['.', 'X'], labels):\n",
        "    opt.plot_losses(marker=marker, f_star=f_star, label=label)\n",
        "plt.yscale('log')\n",
        "plt.xlabel('Iteration')\n",
        "plt.ylabel(r'$f(x^k) - f_*$')\n",
        "plt.legend()\n",
        "plt.tight_layout()\n",
        "plt.show()"
      ],
      "metadata": {
        "id": "GLhGisJoUUqW"
      },
      "execution_count": null,
      "outputs": []
    },
    {
      "cell_type": "code",
      "source": [
        "adgd = Adgd(loss_func=loss_func, grad_func=grad_func, eps=0, it_max=500)\n",
        "adgd.run(w0=w0)\n",
        "plt.figure(figsize=(8, 6))\n",
        "my_green = sns.color_palette('bright')[2]\n",
        "plt.plot(adgd.its[2:], adgd.lrs[2:], label='AdGD', color=my_green)\n",
        "plt.axhline(y=1 / L, color='black', label='$1/L$')\n",
        "plt.axhline(y=1 / l2, color='red', label='$1/\\mu$')\n",
        "plt.yscale('log')\n",
        "plt.xlabel('Iteration')\n",
        "plt.ylabel('$\\lambda_k$')\n",
        "plt.legend()\n",
        "plt.tight_layout()\n",
        "plt.show()"
      ],
      "metadata": {
        "id": "JiaV9i3gY2X2"
      },
      "execution_count": null,
      "outputs": []
    },
    {
      "cell_type": "code",
      "source": [
        "bb1 = Bb(loss_func=loss_func, grad_func=grad_func, option='1', it_max=2000)\n",
        "bb1.run(w0=w0)"
      ],
      "metadata": {
        "id": "JEL6Zb1aY7Iy"
      },
      "execution_count": null,
      "outputs": []
    },
    {
      "cell_type": "code",
      "source": [
        "bb2 = Bb(loss_func=loss_func, grad_func=grad_func, option='2', it_max=2000)\n",
        "bb2.run(w0=w0)"
      ],
      "metadata": {
        "id": "l2qQU8tBZCjz"
      },
      "execution_count": null,
      "outputs": []
    },
    {
      "cell_type": "code",
      "source": [
        "pol = Polyak(loss_func=loss_func, grad_func=grad_func, f_opt=f_star, it_max=it_max)\n",
        "pol.run(w0=w0)\n",
        "pol.compute_loss_on_iterates()"
      ],
      "metadata": {
        "id": "h3yZz6lrZFLC"
      },
      "execution_count": null,
      "outputs": []
    },
    {
      "cell_type": "code",
      "source": [
        "optimizers = [bb1, bb2, adgd, pol]\n",
        "markers = [',', 'o', '*', '^', 'D', 's', '.', 'X']"
      ],
      "metadata": {
        "id": "n3ug2voHZHyg"
      },
      "execution_count": null,
      "outputs": []
    },
    {
      "cell_type": "code",
      "source": [
        "for opt, marker in zip(optimizers, markers):\n",
        "    opt.compute_loss_on_iterates()\n",
        "f_star = np.min([np.min(opt.losses) for opt in optimizers])\n",
        "\n",
        "plt.figure(figsize=(8, 6))\n",
        "labels = ['BB1', 'BB2', 'AdGD']\n",
        "for opt, marker, label in zip(optimizers, markers, labels):\n",
        "    opt.plot_losses(marker=marker, f_star=f_star, label=label)\n",
        "plt.plot(pol.its, np.asarray(pol.losses) - f_star, marker='^', label='Polyak', color='brown', markevery=len(pol.losses)//20)\n",
        "plt.yscale('log')\n",
        "plt.xlabel('# matrix-vector multiplications')\n",
        "plt.ylabel(r'$f(x^k) - f_*$')\n",
        "plt.legend()\n",
        "plt.tight_layout()\n",
        "plt.show()"
      ],
      "metadata": {
        "id": "Diit-n5EZKvU"
      },
      "execution_count": null,
      "outputs": []
    },
    {
      "cell_type": "code",
      "source": [
        "from google.colab import drive\n",
        "drive.flush_and_unmount()"
      ],
      "metadata": {
        "id": "nfTAv5CAZlmQ"
      },
      "execution_count": null,
      "outputs": []
    }
  ]
}